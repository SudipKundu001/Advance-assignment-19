{
 "cells": [
  {
   "cell_type": "markdown",
   "id": "d45b0c77",
   "metadata": {},
   "source": [
    "## python advance Assignment_19"
   ]
  },
  {
   "cell_type": "markdown",
   "id": "7e39944b",
   "metadata": {},
   "source": [
    "**Q1. Define the relationship between a class and its instances. Is it a one-to-one or a one-to-many partnership, for example?**\n",
    "\n",
    "Ans:-A class is a blueprint that is needed to make an object(= instance). The difference between an object and an instance is, \n",
    "\n",
    "an object is a thing and an instance is a relation. In other words, instance describes the relation of an object to the class \n",
    "\n",
    "that the object was made from.\n",
    "\n",
    "Relationship between a class and its instances is a one to many partnership."
   ]
  },
  {
   "cell_type": "markdown",
   "id": "af09d54a",
   "metadata": {},
   "source": [
    "**Q2. What kind of data is held only in an instance?**\n",
    "\n",
    "Ans:- Instance objects holds the Instance variables which are specific to that specific to instance object.Instance objects \n",
    "\n",
    "contains the Instance variables which are specific to that specific Instance object."
   ]
  },
  {
   "cell_type": "markdown",
   "id": "53aef0fe",
   "metadata": {},
   "source": [
    "**Q3. What kind of knowledge is stored in a class?**\n",
    "\n",
    "Ans:-Class creates a user-defined data structure, which holds its own data members and member functions, which can be accessed \n",
    "\n",
    "and used by creating an instance of that class. A class is like a blueprint for an object."
   ]
  },
  {
   "cell_type": "markdown",
   "id": "2acd6d2a",
   "metadata": {},
   "source": [
    "**Q4. What exactly is a method, and how is it different from a regular function?**\n",
    "\n",
    "Ans:-Methods are associated with the objects of the class they belong to. Functions are not associated with any object. We can \n",
    "\n",
    "invoke a function just by its name. Functions operate on the data you pass to them as arguments."
   ]
  },
  {
   "cell_type": "markdown",
   "id": "4c1bdc89",
   "metadata": {},
   "source": [
    "**Q5. Is inheritance supported in Python, and if so, what is the syntax?**\n",
    "\n",
    "Ans:-Yes,Python supports inheritance. Inheritance allows us to define a class that inherits all the methods and properties \n",
    "\n",
    "from another class. Parent class is the class being inherited from, also called base class. Child class is the class that \n",
    "\n",
    "inherits from another class, also called derived class.\n",
    "\n",
    "Firstly, keyword class should come, followed by the derived class name. Colon is must followed by access in which base class \n",
    "\n",
    "has to be derived, followed by the base class name. And finally the body of class."
   ]
  },
  {
   "cell_type": "code",
   "execution_count": 2,
   "id": "eb1aa944",
   "metadata": {},
   "outputs": [
    {
     "name": "stdout",
     "output_type": "stream",
     "text": [
      "This function is in parent class.\n",
      "This function is in child class.\n"
     ]
    }
   ],
   "source": [
    "# Base class\n",
    "class Parent:\n",
    "     def func1(self):\n",
    "          print(\"This function is in parent class.\")\n",
    " \n",
    "# Derived class\n",
    "class Child(Parent):\n",
    "     def func2(self):\n",
    "          print(\"This function is in child class.\")\n",
    " \n",
    "object = Child()\n",
    "object.func1()\n",
    "object.func2()"
   ]
  },
  {
   "cell_type": "markdown",
   "id": "e3fbb196",
   "metadata": {},
   "source": [
    "**Q6. How much encapsulation (making instance or class variables private) does Python support?**\n",
    "\n",
    "Ans:-Encapsulation is one of the fundamental concepts in object-oriented programming (OOP). It describes the idea of wrapping \n",
    "\n",
    "data and the methods that work on data within one unit. This puts restrictions on accessing variables and methods directly and \n",
    "\n",
    "can prevent the accidental modification of data. To prevent accidental change, an object’s variable can only be changed by an \n",
    "\n",
    "object’s method. Those types of variables are known as private\n",
    "\n",
    "Python does not have the private keyword, unlike some other object oriented languages, but encapsulation can be done. \n",
    "\n",
    "Instead, it relies on the convention: a class variable that should not directly be accessed should be prefixed with an \n",
    "\n",
    "underscore."
   ]
  },
  {
   "cell_type": "markdown",
   "id": "24958ae5",
   "metadata": {},
   "source": [
    "**Q7. How do you distinguish between a class variable and an instance variable?**\n",
    "\n",
    "Ans:-Class variables share the same value among all instances of the class. The value of instance variables can differ across \n",
    "\n",
    "each instance of a class. Class variables can only be assigned when a class has been defined. Instance variables, on the other \n",
    "\n",
    "hand, can be assigned or changed at any time.The Class Attribute is available to all the instance objects of that class. \n",
    "\n",
    "whereas Instance Attributes are accessible only to the object or Instance of that class.\n"
   ]
  },
  {
   "cell_type": "markdown",
   "id": "3e7e2dde",
   "metadata": {},
   "source": [
    "**Q8. When, if ever, can self be included in a class's method definitions?**\n",
    "\n",
    "Ans:-self represents the instance of the class. By using the “self” keyword we can access the attributes and methods of the \n",
    "\n",
    "class in python. It binds the attributes with the given arguments.\n",
    "\n",
    "The reason you need to use self. is because Python does not use the @ syntax to refer to instance attributes. Python decided \n",
    "\n",
    "to do methods in a way that makes the instance to which the method belongs be passed automatically, but not received \n",
    "\n",
    "automatically: the first parameter of methods is the instance the method is called on."
   ]
  },
  {
   "cell_type": "code",
   "execution_count": 3,
   "id": "a76168a3",
   "metadata": {},
   "outputs": [
    {
     "name": "stdout",
     "output_type": "stream",
     "text": [
      "Address of self =  2286163046016\n",
      "Address of class object =  2286163046016\n"
     ]
    }
   ],
   "source": [
    "#it is clearly seen that self and obj is referring to the same object\n",
    " \n",
    "class check:\n",
    "    def __init__(self):\n",
    "        print(\"Address of self = \",id(self))\n",
    " \n",
    "obj = check()\n",
    "print(\"Address of class object = \",id(obj))"
   ]
  },
  {
   "cell_type": "markdown",
   "id": "7b58b165",
   "metadata": {},
   "source": [
    "**Q9. What is the difference between the __add__ and the __radd__ methods ?**\n",
    "\n",
    "Ans:-__radd__ is only called if the left object does not have an __add__ method, or that method does not know how to add the \n",
    "\n",
    "two objects (which it flags by returning NotImplemented ). Both classes have an __add__ method, which do not return \n",
    "\n",
    "NotImplemented "
   ]
  },
  {
   "cell_type": "markdown",
   "id": "b27d0b04",
   "metadata": {},
   "source": [
    "**Q10. When is it necessary to use a reflection method? When do you not need it, even though you\n",
    "support the operation in question?**\n",
    "\n",
    "Ans:-t refers to the ability of a code by which it can examine attributes about objects which might be there as parameters to \n",
    "\n",
    "a function. We can use reflection to write a recursive reverse function which will work for lists, strings, and any other \n",
    "\n",
    "sequence supporting concatenation and slicing. Suppose an object is a reference to a string, Python will return the str type \n",
    "\n",
    "object which we can use in data science."
   ]
  },
  {
   "cell_type": "markdown",
   "id": "161de3f7",
   "metadata": {},
   "source": [
    "**Q11. What is the _ _iadd_ _ method called?**\n",
    "\n",
    "Ans:-__iadd__ method is called when we use implementation like a+=b which is a.__iadd__(b)"
   ]
  },
  {
   "cell_type": "markdown",
   "id": "3cdad6b1",
   "metadata": {},
   "source": [
    "**Q12. Is the _ _init_ _ method inherited by subclasses? What do you do if you need to customize its\n",
    "behavior within a subclass?**\n",
    "\n",
    "Ans:-We see that the Child class 'inherited' attributes and methods from the Parent class. ... To get the benefits of the \n",
    "\n",
    "Parent. __init__() method we needed to explicitly call the method and pass self . This is because when we added an __init__ \n",
    "\n",
    "method to Child , we overwrote the inherited __init__.Constructor of subclasses always called to a constructor of parent class \n",
    "\n",
    "to initialize value for the attributes in the parent class, then it start assign value for its attributes\n",
    "\n",
    "If we want to customize its behaviour within a subclass we can use super() method."
   ]
  }
 ],
 "metadata": {
  "kernelspec": {
   "display_name": "Python 3 (ipykernel)",
   "language": "python",
   "name": "python3"
  },
  "language_info": {
   "codemirror_mode": {
    "name": "ipython",
    "version": 3
   },
   "file_extension": ".py",
   "mimetype": "text/x-python",
   "name": "python",
   "nbconvert_exporter": "python",
   "pygments_lexer": "ipython3",
   "version": "3.9.7"
  }
 },
 "nbformat": 4,
 "nbformat_minor": 5
}
